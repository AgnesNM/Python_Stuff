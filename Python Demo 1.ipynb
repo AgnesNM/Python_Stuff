{
 "cells": [
  {
   "cell_type": "code",
   "execution_count": 1,
   "id": "343831e0",
   "metadata": {},
   "outputs": [
    {
     "data": {
      "text/plain": [
       "5"
      ]
     },
     "execution_count": 1,
     "metadata": {},
     "output_type": "execute_result"
    }
   ],
   "source": [
    "# Built in Functions\n",
    "\n",
    "nums = [1,2,3,4,5]\n",
    "\n",
    "len(nums) #len() "
   ]
  },
  {
   "cell_type": "code",
   "execution_count": 2,
   "id": "210b2384",
   "metadata": {},
   "outputs": [],
   "source": [
    "# methods\n",
    "nums.append(6) #append()"
   ]
  },
  {
   "cell_type": "code",
   "execution_count": 3,
   "id": "e17fc3df",
   "metadata": {},
   "outputs": [
    {
     "data": {
      "text/plain": [
       "[1, 2, 3, 4, 5, 6]"
      ]
     },
     "execution_count": 3,
     "metadata": {},
     "output_type": "execute_result"
    }
   ],
   "source": [
    "nums"
   ]
  },
  {
   "cell_type": "code",
   "execution_count": 4,
   "id": "41b2ab14",
   "metadata": {},
   "outputs": [
    {
     "ename": "SyntaxError",
     "evalue": "invalid syntax (1628989485.py, line 8)",
     "output_type": "error",
     "traceback": [
      "\u001b[0;36m  Cell \u001b[0;32mIn[4], line 8\u001b[0;36m\u001b[0m\n\u001b[0;31m    def <function_name> ():\u001b[0m\n\u001b[0m        ^\u001b[0m\n\u001b[0;31mSyntaxError\u001b[0m\u001b[0;31m:\u001b[0m invalid syntax\n"
     ]
    }
   ],
   "source": [
    "# custom functions\n",
    "# snake case (lower case with underscores)\n",
    "# camelCase - capitalize the words after the first\n",
    "\n",
    "# function names should not be reserved keywords\n",
    "\n",
    "\n",
    "def <function_name> ():\n",
    "    <statement>\n"
   ]
  },
  {
   "cell_type": "code",
   "execution_count": null,
   "id": "91fe8629",
   "metadata": {},
   "outputs": [],
   "source": [
    "# docstrings \n",
    "\n",
    "def <function_name> ():\n",
    "    \n",
    "    '''\n",
    "    some text here\n",
    "    \n",
    "    '''\n",
    "    \n",
    "    <statement>\n",
    "    \n",
    "## Some C Syntax\n",
    "\n",
    "# int main(void)\n",
    "# {\n",
    "#     printf(\"hello, world\\n\");\n",
    "# }"
   ]
  },
  {
   "cell_type": "code",
   "execution_count": null,
   "id": "8f61def8",
   "metadata": {},
   "outputs": [],
   "source": [
    "# the pass placeholder\n",
    "\n",
    "def greeting():\n",
    "    print(\"Hello Agnes!\")"
   ]
  },
  {
   "cell_type": "code",
   "execution_count": null,
   "id": "fd4ae7c2",
   "metadata": {},
   "outputs": [],
   "source": [
    "# call the function\n",
    "\n",
    "greeting()"
   ]
  },
  {
   "cell_type": "code",
   "execution_count": null,
   "id": "623a71e0",
   "metadata": {},
   "outputs": [],
   "source": [
    "# the DRY principle\n",
    "\n",
    "print(\"Hello Agnes!\")\n",
    "\n",
    "print(\"Hello Tom!\")"
   ]
  },
  {
   "cell_type": "code",
   "execution_count": null,
   "id": "86c69f7d",
   "metadata": {},
   "outputs": [],
   "source": [
    "def greeting(names):\n",
    "    print(names)"
   ]
  },
  {
   "cell_type": "code",
   "execution_count": null,
   "id": "b017c7f2",
   "metadata": {},
   "outputs": [],
   "source": [
    "names = [\"Agnes\", \"Tom\"] #ordered sequences"
   ]
  },
  {
   "cell_type": "code",
   "execution_count": null,
   "id": "025a8b1a",
   "metadata": {},
   "outputs": [],
   "source": [
    "greeting()"
   ]
  },
  {
   "cell_type": "code",
   "execution_count": null,
   "id": "1683320e",
   "metadata": {},
   "outputs": [],
   "source": [
    "greeting(names)"
   ]
  },
  {
   "cell_type": "code",
   "execution_count": null,
   "id": "0c45790a",
   "metadata": {},
   "outputs": [],
   "source": [
    "# the %s placeholder\n",
    "\n",
    "def greeting(names):\n",
    "    print(\"Hello %s\" % names)"
   ]
  },
  {
   "cell_type": "code",
   "execution_count": null,
   "id": "90ef4d4b",
   "metadata": {},
   "outputs": [],
   "source": [
    "greeting(names)"
   ]
  },
  {
   "cell_type": "code",
   "execution_count": null,
   "id": "6bec62ca",
   "metadata": {},
   "outputs": [],
   "source": [
    "# f strings\n",
    "\n",
    "def greeting(names):\n",
    "    print(f\"Hello {names}\")"
   ]
  },
  {
   "cell_type": "code",
   "execution_count": null,
   "id": "aa0fa6e4",
   "metadata": {},
   "outputs": [],
   "source": [
    "greeting(names)"
   ]
  },
  {
   "cell_type": "code",
   "execution_count": null,
   "id": "0fcfd44e",
   "metadata": {},
   "outputs": [],
   "source": [
    "def greeting(names):\n",
    "    print(f\"Hello {names [1]}\")"
   ]
  },
  {
   "cell_type": "code",
   "execution_count": null,
   "id": "8782834f",
   "metadata": {},
   "outputs": [],
   "source": [
    "greeting(names)"
   ]
  },
  {
   "cell_type": "code",
   "execution_count": null,
   "id": "59041c23",
   "metadata": {},
   "outputs": [],
   "source": [
    "# return\n",
    "\n",
    "def add_nums():\n",
    "    pass"
   ]
  },
  {
   "cell_type": "code",
   "execution_count": null,
   "id": "62103c50",
   "metadata": {},
   "outputs": [],
   "source": [
    "def add_nums():\n",
    "     print (1 + 2)        "
   ]
  },
  {
   "cell_type": "code",
   "execution_count": null,
   "id": "ff2915e3",
   "metadata": {},
   "outputs": [],
   "source": [
    "add_nums()"
   ]
  },
  {
   "cell_type": "code",
   "execution_count": null,
   "id": "9bba2f62",
   "metadata": {},
   "outputs": [],
   "source": [
    "def add_nums(num1, num2):\n",
    "     print (num1 + num2)"
   ]
  },
  {
   "cell_type": "code",
   "execution_count": null,
   "id": "d30c0a5b",
   "metadata": {},
   "outputs": [],
   "source": [
    "add_nums(2.5, 7)"
   ]
  },
  {
   "cell_type": "code",
   "execution_count": 5,
   "id": "a64c716a",
   "metadata": {},
   "outputs": [],
   "source": [
    "def add_nums(num1, num2):\n",
    "     return num1 + num2    "
   ]
  },
  {
   "cell_type": "code",
   "execution_count": 6,
   "id": "b543a9f4",
   "metadata": {},
   "outputs": [
    {
     "data": {
      "text/plain": [
       "6.9"
      ]
     },
     "execution_count": 6,
     "metadata": {},
     "output_type": "execute_result"
    }
   ],
   "source": [
    "add_nums(5.9, 1)"
   ]
  },
  {
   "cell_type": "code",
   "execution_count": 7,
   "id": "547f00ea",
   "metadata": {},
   "outputs": [],
   "source": [
    "result = add_nums(8.2, 6)"
   ]
  },
  {
   "cell_type": "code",
   "execution_count": 8,
   "id": "bae25292",
   "metadata": {},
   "outputs": [
    {
     "data": {
      "text/plain": [
       "14.2"
      ]
     },
     "execution_count": 8,
     "metadata": {},
     "output_type": "execute_result"
    }
   ],
   "source": [
    "result"
   ]
  },
  {
   "cell_type": "code",
   "execution_count": 9,
   "id": "4131acbe",
   "metadata": {},
   "outputs": [],
   "source": [
    "# pseudocode\n",
    "\n",
    "# say hello \n",
    "\n",
    "# ask for a drink \n",
    "\n",
    "# return the drink and say welcome\n",
    "\n",
    "# tell the price\n",
    "\n",
    "\n",
    "def greeting():\n",
    "    print(\"Hello Agnes!\")\n",
    "    \n",
    "    ask_drink = input(\"What drink would you like? \")\n",
    "    \n",
    "    print(ask_drink)\n",
    "    \n",
    "    print(\"The price of the drink is KES 200\")"
   ]
  },
  {
   "cell_type": "code",
   "execution_count": 10,
   "id": "7de4953a",
   "metadata": {},
   "outputs": [
    {
     "name": "stdout",
     "output_type": "stream",
     "text": [
      "Hello Agnes!\n",
      "What drink would you like? Soda\n",
      "Soda\n",
      "The price of the drink is KES 200\n"
     ]
    }
   ],
   "source": [
    "greeting()"
   ]
  },
  {
   "cell_type": "code",
   "execution_count": null,
   "id": "d58a8ed1",
   "metadata": {},
   "outputs": [],
   "source": [
    "# welcoming function\n",
    "\n",
    "# function drinks\n",
    "\n",
    "# price/bill"
   ]
  }
 ],
 "metadata": {
  "kernelspec": {
   "display_name": "Python 3 (ipykernel)",
   "language": "python",
   "name": "python3"
  },
  "language_info": {
   "codemirror_mode": {
    "name": "ipython",
    "version": 3
   },
   "file_extension": ".py",
   "mimetype": "text/x-python",
   "name": "python",
   "nbconvert_exporter": "python",
   "pygments_lexer": "ipython3",
   "version": "3.11.3"
  }
 },
 "nbformat": 4,
 "nbformat_minor": 5
}
