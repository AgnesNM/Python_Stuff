{
 "cells": [
  {
   "cell_type": "code",
   "execution_count": 1,
   "id": "a8a9cc8c",
   "metadata": {},
   "outputs": [],
   "source": [
    "name = \"Avatar\""
   ]
  },
  {
   "cell_type": "code",
   "execution_count": 2,
   "id": "e3d6990b",
   "metadata": {},
   "outputs": [
    {
     "data": {
      "text/plain": [
       "str"
      ]
     },
     "execution_count": 2,
     "metadata": {},
     "output_type": "execute_result"
    }
   ],
   "source": [
    "type(name)"
   ]
  },
  {
   "cell_type": "code",
   "execution_count": 3,
   "id": "c2e7b02a",
   "metadata": {},
   "outputs": [],
   "source": [
    "year = 2008"
   ]
  },
  {
   "cell_type": "code",
   "execution_count": 4,
   "id": "7c2dbbaf",
   "metadata": {},
   "outputs": [
    {
     "data": {
      "text/plain": [
       "int"
      ]
     },
     "execution_count": 4,
     "metadata": {},
     "output_type": "execute_result"
    }
   ],
   "source": [
    "type(year)"
   ]
  },
  {
   "cell_type": "code",
   "execution_count": 5,
   "id": "e1045cdc",
   "metadata": {},
   "outputs": [],
   "source": [
    "watched = True"
   ]
  },
  {
   "cell_type": "code",
   "execution_count": 6,
   "id": "7238a8b3",
   "metadata": {},
   "outputs": [
    {
     "data": {
      "text/plain": [
       "bool"
      ]
     },
     "execution_count": 6,
     "metadata": {},
     "output_type": "execute_result"
    }
   ],
   "source": [
    "type(watched)"
   ]
  },
  {
   "cell_type": "code",
   "execution_count": 7,
   "id": "2ffdab28",
   "metadata": {},
   "outputs": [
    {
     "data": {
      "text/plain": [
       "'2008'"
      ]
     },
     "execution_count": 7,
     "metadata": {},
     "output_type": "execute_result"
    }
   ],
   "source": [
    "#casting\n",
    "\n",
    "str(year)"
   ]
  },
  {
   "cell_type": "code",
   "execution_count": 8,
   "id": "5e1250bf",
   "metadata": {},
   "outputs": [],
   "source": [
    "# a Python dictionary\n",
    "# unordered \n",
    "# store key value pairs\n",
    "\n",
    "movie = {\n",
    "    \n",
    "    \"name\":\"Avatar\",\n",
    "    \"year\": 2008,\n",
    "    \"watched\": True\n",
    "}"
   ]
  },
  {
   "cell_type": "code",
   "execution_count": 9,
   "id": "b2e6c2ee",
   "metadata": {},
   "outputs": [
    {
     "data": {
      "text/plain": [
       "dict"
      ]
     },
     "execution_count": 9,
     "metadata": {},
     "output_type": "execute_result"
    }
   ],
   "source": [
    "type(movie)"
   ]
  },
  {
   "cell_type": "code",
   "execution_count": 10,
   "id": "1421a99e",
   "metadata": {},
   "outputs": [
    {
     "data": {
      "text/plain": [
       "'Avatar'"
      ]
     },
     "execution_count": 10,
     "metadata": {},
     "output_type": "execute_result"
    }
   ],
   "source": [
    "movie[\"name\"]"
   ]
  },
  {
   "cell_type": "code",
   "execution_count": 11,
   "id": "4674d153",
   "metadata": {},
   "outputs": [
    {
     "data": {
      "text/plain": [
       "2008"
      ]
     },
     "execution_count": 11,
     "metadata": {},
     "output_type": "execute_result"
    }
   ],
   "source": [
    "movie[\"year\"]"
   ]
  },
  {
   "cell_type": "code",
   "execution_count": 12,
   "id": "220c4e49",
   "metadata": {},
   "outputs": [
    {
     "data": {
      "text/plain": [
       "True"
      ]
     },
     "execution_count": 12,
     "metadata": {},
     "output_type": "execute_result"
    }
   ],
   "source": [
    "movie[\"watched\"]"
   ]
  },
  {
   "cell_type": "code",
   "execution_count": 13,
   "id": "7e0c8217",
   "metadata": {},
   "outputs": [],
   "source": [
    "that_date = \"2024-02-19 15:30:45\""
   ]
  },
  {
   "cell_type": "code",
   "execution_count": 14,
   "id": "80d69546",
   "metadata": {},
   "outputs": [
    {
     "data": {
      "text/plain": [
       "str"
      ]
     },
     "execution_count": 14,
     "metadata": {},
     "output_type": "execute_result"
    }
   ],
   "source": [
    "type (\"2024-02-19 15:30:45\")"
   ]
  },
  {
   "cell_type": "code",
   "execution_count": 15,
   "id": "8bec2a25",
   "metadata": {},
   "outputs": [
    {
     "name": "stdout",
     "output_type": "stream",
     "text": [
      "<class 'str'>\n"
     ]
    }
   ],
   "source": [
    "# Files\n",
    "# camelCase in Python\n",
    "# snake case - lowercase separated with underscores\n",
    "# dictionaries can hold a variety of data types, including other dictionaries\n",
    "\n",
    "# file_info = {\n",
    "#     \"name\":\"file_1\",\n",
    "#     \"creationTime\":\"2024-02-19 15:30:45\",\n",
    "#     \"extension\":\".py\",\n",
    "#     \"isReadOnly\": False,\n",
    "#     \"Length\": 5,\n",
    "# }\n",
    "\n",
    "# Python lists\n",
    "\n",
    "# ordered sequences\n",
    "# mutable\n",
    "\n",
    "name = \"Agnes\" # a str is a sequence\n",
    "\n",
    "print(type(name))\n",
    "\n",
    "file_info = [\"file_1\", \"2024-02-19 15:30:45\", \".py\", False, 5]"
   ]
  },
  {
   "cell_type": "code",
   "execution_count": 16,
   "id": "6eabff71",
   "metadata": {},
   "outputs": [],
   "source": [
    "file_info = [\"file_1\", \"2024-02-19 15:30:45\", \".py\", True, 5]"
   ]
  },
  {
   "cell_type": "code",
   "execution_count": 17,
   "id": "d3363114",
   "metadata": {},
   "outputs": [
    {
     "data": {
      "text/plain": [
       "5"
      ]
     },
     "execution_count": 17,
     "metadata": {},
     "output_type": "execute_result"
    }
   ],
   "source": [
    "# length of a list\n",
    "\n",
    "len(file_info)"
   ]
  },
  {
   "cell_type": "code",
   "execution_count": 18,
   "id": "18c8d014",
   "metadata": {},
   "outputs": [
    {
     "data": {
      "text/plain": [
       "True"
      ]
     },
     "execution_count": 18,
     "metadata": {},
     "output_type": "execute_result"
    }
   ],
   "source": [
    "file_info [3]"
   ]
  },
  {
   "cell_type": "code",
   "execution_count": 19,
   "id": "f1ad8d2a",
   "metadata": {},
   "outputs": [],
   "source": [
    "file_info [3] = False"
   ]
  },
  {
   "cell_type": "code",
   "execution_count": 20,
   "id": "8c7a1485",
   "metadata": {},
   "outputs": [
    {
     "data": {
      "text/plain": [
       "False"
      ]
     },
     "execution_count": 20,
     "metadata": {},
     "output_type": "execute_result"
    }
   ],
   "source": [
    "file_info[3]"
   ]
  },
  {
   "cell_type": "code",
   "execution_count": 21,
   "id": "6a9544a1",
   "metadata": {},
   "outputs": [],
   "source": [
    "location = (\"37.353°E, -3.066°S\")"
   ]
  },
  {
   "cell_type": "code",
   "execution_count": 22,
   "id": "2c88a01c",
   "metadata": {},
   "outputs": [
    {
     "data": {
      "text/plain": [
       "str"
      ]
     },
     "execution_count": 22,
     "metadata": {},
     "output_type": "execute_result"
    }
   ],
   "source": [
    "type (location)"
   ]
  },
  {
   "cell_type": "code",
   "execution_count": 23,
   "id": "9ba37628",
   "metadata": {},
   "outputs": [],
   "source": [
    "# measurements = {\n",
    "#     \"top\": 5,\n",
    "#     \"height\": 10,\n",
    "#     \"isEmpty\": False,\n",
    "#     \"Left\": 7,\n",
    "#     \"Location\": \"37.353°E, -3.066°S\",\n",
    "#     \"Right\": 9,\n",
    "#     \"Size\": \"Large\",\n",
    "#     \"Width\": 12\n",
    "    \n",
    "# }\n",
    "\n",
    "measurements = [5, 10, False, 7, \"37.353°E, -3.066°S\", 9, \"Large\", 12]"
   ]
  },
  {
   "cell_type": "code",
   "execution_count": 24,
   "id": "bd704c2d",
   "metadata": {},
   "outputs": [
    {
     "data": {
      "text/plain": [
       "list"
      ]
     },
     "execution_count": 24,
     "metadata": {},
     "output_type": "execute_result"
    }
   ],
   "source": [
    "type(measurements)"
   ]
  },
  {
   "cell_type": "code",
   "execution_count": 25,
   "id": "ba3b1a2b",
   "metadata": {},
   "outputs": [
    {
     "data": {
      "text/plain": [
       "'37.353°E, -3.066°S'"
      ]
     },
     "execution_count": 25,
     "metadata": {},
     "output_type": "execute_result"
    }
   ],
   "source": [
    "measurements [4]"
   ]
  },
  {
   "cell_type": "code",
   "execution_count": 26,
   "id": "b941b23a",
   "metadata": {},
   "outputs": [
    {
     "ename": "TypeError",
     "evalue": "list indices must be integers or slices, not str",
     "output_type": "error",
     "traceback": [
      "\u001b[0;31m---------------------------------------------------------------------------\u001b[0m",
      "\u001b[0;31mTypeError\u001b[0m                                 Traceback (most recent call last)",
      "Cell \u001b[0;32mIn[26], line 1\u001b[0m\n\u001b[0;32m----> 1\u001b[0m measurements [\u001b[38;5;124m\"\u001b[39m\u001b[38;5;124mLocation\u001b[39m\u001b[38;5;124m\"\u001b[39m]\n",
      "\u001b[0;31mTypeError\u001b[0m: list indices must be integers or slices, not str"
     ]
    }
   ],
   "source": [
    "measurements [\"Location\"]"
   ]
  },
  {
   "cell_type": "code",
   "execution_count": null,
   "id": "a253d86b",
   "metadata": {},
   "outputs": [],
   "source": [
    "type (measurements)"
   ]
  },
  {
   "cell_type": "code",
   "execution_count": null,
   "id": "f7c46af9",
   "metadata": {},
   "outputs": [],
   "source": [
    "# Tuple\n",
    "\n",
    "# immutable ordered sequences\n",
    "\n",
    "# store items that should not be changed\n",
    "\n",
    "# casting\n",
    "\n",
    "specs = [5, 10, False, 7, \"37.353°E, -3.066°S\", 9, \"Large\", 12]\n",
    "\n",
    "\n",
    "tuple(specs)"
   ]
  },
  {
   "cell_type": "code",
   "execution_count": null,
   "id": "fe42e8df",
   "metadata": {},
   "outputs": [],
   "source": [
    "specs = (5, 12, False, 7, \"37.353°E, -3.066°S\", 9 , \"Large\", 12)"
   ]
  },
  {
   "cell_type": "code",
   "execution_count": null,
   "id": "1f936896",
   "metadata": {},
   "outputs": [],
   "source": [
    "type(specs)"
   ]
  },
  {
   "cell_type": "code",
   "execution_count": null,
   "id": "8aec9f3c",
   "metadata": {},
   "outputs": [],
   "source": [
    "specs [3]"
   ]
  },
  {
   "cell_type": "code",
   "execution_count": null,
   "id": "88ce8f64",
   "metadata": {},
   "outputs": [],
   "source": [
    "specs [3] = 10"
   ]
  },
  {
   "cell_type": "code",
   "execution_count": null,
   "id": "94f1c9f6",
   "metadata": {},
   "outputs": [],
   "source": [
    "specs"
   ]
  },
  {
   "cell_type": "code",
   "execution_count": null,
   "id": "3f33e511",
   "metadata": {},
   "outputs": [],
   "source": [
    "# celebrities = {\n",
    "#     \"age\": 21,\n",
    "#     \"culture\": \"Aboriginal\",\n",
    "#     \"Description\": \"Movie star\",\n",
    "#     \"Gender\": \"female\",\n",
    "#     \"Name\":\" Miah Madden\",    \n",
    "#     \"Supported_Audioformats\":\"mp3\"\n",
    "# }\n",
    "\n",
    "# sets are unordered collections of unique elements\n",
    "# have curly braces like dictionaries, but do not have keys\n",
    "# Set elements are unique. Duplicate elements are not allowed.\n",
    "# \n",
    "\n",
    "celebrities = [21, \"Aboriginal\", \"Movie star\", \"female\", \"Miah Madden\", \"mp3\"]\n",
    "\n",
    "\n",
    "#create a set via casting\n",
    "\n",
    "set(celebrities)"
   ]
  },
  {
   "cell_type": "code",
   "execution_count": 27,
   "id": "faa59a82",
   "metadata": {},
   "outputs": [],
   "source": [
    "Miah = {\"female\", 21, \"Aboriginal\", \"female\"}"
   ]
  },
  {
   "cell_type": "code",
   "execution_count": 28,
   "id": "a4bdde48",
   "metadata": {},
   "outputs": [
    {
     "data": {
      "text/plain": [
       "{21, 'Aboriginal', 'female'}"
      ]
     },
     "execution_count": 28,
     "metadata": {},
     "output_type": "execute_result"
    }
   ],
   "source": [
    "Miah"
   ]
  },
  {
   "cell_type": "code",
   "execution_count": null,
   "id": "03048729",
   "metadata": {},
   "outputs": [],
   "source": [
    "type(Miah)"
   ]
  },
  {
   "cell_type": "code",
   "execution_count": null,
   "id": "4d5a9f59",
   "metadata": {},
   "outputs": [],
   "source": [
    "# the test for membership\n",
    "\n",
    "21 in Miah"
   ]
  },
  {
   "cell_type": "code",
   "execution_count": null,
   "id": "494597fd",
   "metadata": {},
   "outputs": [],
   "source": [
    "\"Aboriginal\" in Miah"
   ]
  },
  {
   "cell_type": "code",
   "execution_count": null,
   "id": "fc90b21a",
   "metadata": {},
   "outputs": [],
   "source": [
    "\"female\" in Miah"
   ]
  },
  {
   "cell_type": "code",
   "execution_count": null,
   "id": "792b6f9d",
   "metadata": {},
   "outputs": [],
   "source": [
    "\"male\" in Miah\n"
   ]
  },
  {
   "cell_type": "code",
   "execution_count": null,
   "id": "68b2f73c",
   "metadata": {},
   "outputs": [],
   "source": [
    "len(Miah)"
   ]
  },
  {
   "cell_type": "code",
   "execution_count": 29,
   "id": "a55b6958",
   "metadata": {},
   "outputs": [],
   "source": [
    "Miah.add(\"Movie star\")"
   ]
  },
  {
   "cell_type": "code",
   "execution_count": 30,
   "id": "24126b44",
   "metadata": {},
   "outputs": [
    {
     "data": {
      "text/plain": [
       "{21, 'Aboriginal', 'Movie star', 'female'}"
      ]
     },
     "execution_count": 30,
     "metadata": {},
     "output_type": "execute_result"
    }
   ],
   "source": [
    "Miah"
   ]
  },
  {
   "cell_type": "code",
   "execution_count": null,
   "id": "a428c212",
   "metadata": {},
   "outputs": [],
   "source": []
  }
 ],
 "metadata": {
  "kernelspec": {
   "display_name": "Python 3 (ipykernel)",
   "language": "python",
   "name": "python3"
  },
  "language_info": {
   "codemirror_mode": {
    "name": "ipython",
    "version": 3
   },
   "file_extension": ".py",
   "mimetype": "text/x-python",
   "name": "python",
   "nbconvert_exporter": "python",
   "pygments_lexer": "ipython3",
   "version": "3.11.3"
  }
 },
 "nbformat": 4,
 "nbformat_minor": 5
}
